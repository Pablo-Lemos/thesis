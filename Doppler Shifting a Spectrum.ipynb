{
 "cells": [
  {
   "cell_type": "code",
   "execution_count": 1,
   "metadata": {},
   "outputs": [],
   "source": [
    "from __future__ import print_function, division\n",
    "from PyAstronomy import pyasl\n",
    "import numpy as np\n",
    "import matplotlib.pylab as plt"
   ]
  },
  {
   "cell_type": "code",
   "execution_count": 2,
   "metadata": {},
   "outputs": [],
   "source": [
    "# Create a \"spectrum\" with 0.01 A binning ...\n",
    "wvl = np.linspace(6000., 6100., 10000)\n",
    "# ... a gradient in the continuum ...\n",
    "flux = np.ones(len(wvl)) + (wvl/wvl.min())*0.05\n",
    "# ... and a Gaussian absoption line\n",
    "flux -= np.exp( -(wvl-6050.)**2/(2.*0.5**2) )*0.05"
   ]
  },
  {
   "cell_type": "code",
   "execution_count": 3,
   "metadata": {},
   "outputs": [],
   "source": [
    "# Shift that spectrum redward by 20 km/s using\n",
    "# \"firstlast\" as edge handling method.\n",
    "nflux1, wlprime1 = pyasl.dopplerShift(wvl, flux, 20., edgeHandling=\"firstlast\")"
   ]
  },
  {
   "cell_type": "code",
   "execution_count": 4,
   "metadata": {},
   "outputs": [],
   "source": [
    "# Shift the red-shifted spectrum blueward by 20 km/s, i.e.,\n",
    "# back on the initial spectrum.\n",
    "nflux2, wlprime = pyasl.dopplerShift(wvl, nflux1, -20., \\\n",
    "                        edgeHandling=\"fillValue\", fillValue=1.0)"
   ]
  },
  {
   "cell_type": "code",
   "execution_count": 5,
   "metadata": {},
   "outputs": [
    {
     "name": "stdout",
     "output_type": "stream",
     "text": [
      "Maximal difference (without outer 100 bins):  4.860716056764858e-06\n"
     ]
    }
   ],
   "source": [
    "# Check the maximum difference in the central part\n",
    "indi = np.arange(len(flux)-200) + 100\n",
    "print(\"Maximal difference (without outer 100 bins): \", \\\n",
    "                max(np.abs(flux[indi]-nflux2[indi])))"
   ]
  },
  {
   "cell_type": "code",
   "execution_count": 6,
   "metadata": {},
   "outputs": [
    {
     "data": {
      "image/png": "[encoded data removed]",
      "text/plain": [
       "<Figure size 432x288 with 1 Axes>"
      ]
     },
     "metadata": {
      "needs_background": "light"
     },
     "output_type": "display_data"
    }
   ],
   "source": [
    "# Plot the outcome\n",
    "plt.title(\"Initial (blue), shifted (red), and back-shifted (green) spectrum\")\n",
    "plt.plot(wvl, flux, 'b.-')\n",
    "plt.plot(wvl, nflux1, 'r.-')\n",
    "plt.plot(wvl, nflux2, 'g.-')\n",
    "plt.show()"
   ]
  },
  {
   "cell_type": "code",
   "execution_count": null,
   "metadata": {},
   "outputs": [],
   "source": []
  }
 ],
 "metadata": {
  "kernelspec": {
   "display_name": "Gaia",
   "language": "python",
   "name": "gaia"
  },
  "language_info": {
   "codemirror_mode": {
    "name": "ipython",
    "version": 3
   },
   "file_extension": ".py",
   "mimetype": "text/x-python",
   "name": "python",
   "nbconvert_exporter": "python",
   "pygments_lexer": "ipython3",
   "version": "3.8.2"
  }
 },
 "nbformat": 4,
 "nbformat_minor": 4
}
